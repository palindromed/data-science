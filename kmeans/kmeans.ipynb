{
 "cells": [
  {
   "cell_type": "code",
   "execution_count": 333,
   "metadata": {
    "collapsed": false
   },
   "outputs": [],
   "source": [
    "import pandas as pd\n",
    "import numpy as np\n",
    "import csv\n",
    "from sklearn.metrics import accuracy_score\n",
    "from sklearn.cross_validation import train_test_split\n",
    "from sklearn.cluster import KMeans\n",
    "from pprint import pprint\n",
    "\n",
    "MY_TITANIC_TRAIN = '../knn/train.csv'\n",
    "MY_TITANIC_TEST = '../knn/test.csv'\n",
    "titanic_dataframe = pd.read_csv(MY_TITANIC_TRAIN, header=0)\n",
    "titanic_test = pd.read_csv(MY_TITANIC_TEST, header=0)"
   ]
  },
  {
   "cell_type": "code",
   "execution_count": 334,
   "metadata": {
    "collapsed": false
   },
   "outputs": [
    {
     "name": "stdout",
     "output_type": "stream",
     "text": [
      "<class 'pandas.core.frame.DataFrame'>\n",
      "RangeIndex: 891 entries, 0 to 890\n",
      "Data columns (total 12 columns):\n",
      "PassengerId    891 non-null int64\n",
      "Survived       891 non-null int64\n",
      "Pclass         891 non-null int64\n",
      "Name           891 non-null object\n",
      "Sex            891 non-null object\n",
      "Age            714 non-null float64\n",
      "SibSp          891 non-null int64\n",
      "Parch          891 non-null int64\n",
      "Ticket         891 non-null object\n",
      "Fare           891 non-null float64\n",
      "Cabin          204 non-null object\n",
      "Embarked       889 non-null object\n",
      "dtypes: float64(2), int64(5), object(5)\n",
      "memory usage: 83.6+ KB\n"
     ]
    }
   ],
   "source": [
    "titanic_dataframe.info()"
   ]
  },
  {
   "cell_type": "code",
   "execution_count": 335,
   "metadata": {
    "collapsed": false
   },
   "outputs": [
    {
     "name": "stdout",
     "output_type": "stream",
     "text": [
      "length: 891 \n",
      "   PassengerId  Survived   Age  SibSp  Parch     Fare\n",
      "0            1         0  22.0      1      0   7.2500\n",
      "1            2         1  38.0      1      0  71.2833\n",
      "2            3         1  26.0      0      0   7.9250\n",
      "3            4         1  35.0      1      0  53.1000\n",
      "4            5         0  35.0      0      0   8.0500\n"
     ]
    }
   ],
   "source": [
    "titanic_dataframe.drop(['Name', 'Ticket', 'Cabin', 'Embarked', 'Sex', 'Pclass'], axis=1, inplace=True)\n",
    "print('length: {} '.format(len(titanic_dataframe)))\n",
    "print(titanic_dataframe.head(5))"
   ]
  },
  {
   "cell_type": "code",
   "execution_count": 336,
   "metadata": {
    "collapsed": false
   },
   "outputs": [
    {
     "name": "stdout",
     "output_type": "stream",
     "text": [
      "<class 'pandas.core.frame.DataFrame'>\n",
      "RangeIndex: 891 entries, 0 to 890\n",
      "Data columns (total 6 columns):\n",
      "PassengerId    891 non-null int64\n",
      "Survived       891 non-null int64\n",
      "Age            714 non-null float64\n",
      "SibSp          891 non-null int64\n",
      "Parch          891 non-null int64\n",
      "Fare           891 non-null float64\n",
      "dtypes: float64(2), int64(4)\n",
      "memory usage: 41.8 KB\n"
     ]
    }
   ],
   "source": [
    "titanic_dataframe.info()"
   ]
  },
  {
   "cell_type": "markdown",
   "metadata": {},
   "source": [
    "Fill in missing data from age with average age."
   ]
  },
  {
   "cell_type": "code",
   "execution_count": 337,
   "metadata": {
    "collapsed": false
   },
   "outputs": [
    {
     "name": "stdout",
     "output_type": "stream",
     "text": [
      "<class 'pandas.core.frame.DataFrame'>\n",
      "RangeIndex: 891 entries, 0 to 890\n",
      "Data columns (total 6 columns):\n",
      "PassengerId    891 non-null int64\n",
      "Survived       891 non-null int64\n",
      "Age            891 non-null float64\n",
      "SibSp          891 non-null int64\n",
      "Parch          891 non-null int64\n",
      "Fare           891 non-null float64\n",
      "dtypes: float64(2), int64(4)\n",
      "memory usage: 41.8 KB\n"
     ]
    }
   ],
   "source": [
    "titanic_dataframe.Age.fillna(titanic_dataframe.Age.mean(), inplace=True)\n",
    "titanic_dataframe.info()"
   ]
  },
  {
   "cell_type": "markdown",
   "metadata": {},
   "source": [
    "Grab 20% of the data."
   ]
  },
  {
   "cell_type": "code",
   "execution_count": 338,
   "metadata": {
    "collapsed": false
   },
   "outputs": [
    {
     "name": "stdout",
     "output_type": "stream",
     "text": [
      "           Age  SibSp  Parch      Fare\n",
      "205   2.000000      0      1   10.4625\n",
      "582  54.000000      0      0   26.0000\n",
      "506  33.000000      0      2   26.0000\n",
      "139  24.000000      0      0   79.2000\n",
      "786  18.000000      0      0    7.4958\n",
      "536  45.000000      0      0   26.5500\n",
      "417  18.000000      0      2   13.0000\n",
      "283  19.000000      0      0    8.0500\n",
      "159  29.699118      8      2   69.5500\n",
      "122  32.500000      1      0   30.0708\n",
      "538  29.699118      0      0   14.5000\n",
      "407   3.000000      1      1   18.7500\n",
      "823  27.000000      0      1   12.4750\n",
      "793  29.699118      0      0   30.6958\n",
      "848  28.000000      0      1   33.0000\n",
      "253  30.000000      1      0   16.1000\n",
      "194  44.000000      0      0   27.7208\n",
      "860  41.000000      2      0   14.1083\n",
      "214  29.699118      1      0    7.7500\n",
      "313  28.000000      0      0    7.8958\n",
      "369  24.000000      0      0   69.3000\n",
      "629  29.699118      0      0    7.7333\n",
      "587  60.000000      1      1   79.2000\n",
      "875  15.000000      0      0    7.2250\n",
      "792  29.699118      8      2   69.5500\n",
      "515  47.000000      0      0   34.0208\n",
      "618   4.000000      2      1   39.0000\n",
      "78    0.830000      0      2   29.0000\n",
      "257  30.000000      0      0   86.5000\n",
      "53   29.000000      1      0   26.0000\n",
      "..         ...    ...    ...       ...\n",
      "591  52.000000      1      0   78.2667\n",
      "66   29.000000      0      0   10.5000\n",
      "134  25.000000      0      0   13.0000\n",
      "838  32.000000      0      0   56.4958\n",
      "585  18.000000      0      2   79.6500\n",
      "609  40.000000      0      0  153.4625\n",
      "612  29.699118      1      0   15.5000\n",
      "284  29.699118      0      0   26.0000\n",
      "874  28.000000      1      0   24.0000\n",
      "534  30.000000      0      0    8.6625\n",
      "267  25.000000      1      0    7.7750\n",
      "796  49.000000      0      0   25.9292\n",
      "745  70.000000      1      1   71.0000\n",
      "514  24.000000      0      0    7.4958\n",
      "410  29.699118      0      0    7.8958\n",
      "738  29.699118      0      0    7.8958\n",
      "596  29.699118      0      0   33.0000\n",
      "296  23.500000      0      0    7.2292\n",
      "268  58.000000      0      1  153.4625\n",
      "626  57.000000      0      0   12.3500\n",
      "403  28.000000      1      0   15.8500\n",
      "829  62.000000      0      0   80.0000\n",
      "91   20.000000      0      0    7.8542\n",
      "26   29.699118      0      0    7.2250\n",
      "389  17.000000      0      0   12.0000\n",
      "721  17.000000      1      0    7.0542\n",
      "420  29.699118      0      0    7.8958\n",
      "11   58.000000      0      0   26.5500\n",
      "261   3.000000      4      2   31.3875\n",
      "41   27.000000      1      0   21.0000\n",
      "\n",
      "[712 rows x 4 columns]\n"
     ]
    }
   ],
   "source": [
    "train, test = train_test_split(titanic_dataframe, test_size = 0.2)\n",
    "y = train['Survived']\n",
    "x = train.drop(['PassengerId', 'Survived'], axis=1)"
   ]
  },
  {
   "cell_type": "code",
   "execution_count": 339,
   "metadata": {
    "collapsed": false
   },
   "outputs": [
    {
     "name": "stdout",
     "output_type": "stream",
     "text": [
      "[0 0 0 0 0 0 0 0 0 0 0 0 0 0 0 0 0 0 0 0 0 0 0 0 0 0 0 0 0 0 0 0 0 0 0 0 0\n",
      " 0 0 0 0 0 0 0 0 0 0 0 0 0 0 0 0 0 0 0 0 0 0 0 0 0 0 0 0 0 0 0 0 0 0 1 0 0\n",
      " 0 0 0 0 0 0 0 0 0 0 0 0 0 0 0 0 0 0 0 0 0 0 0 1 0 0 0 0 0 0 0 0 0 0 0 0 0\n",
      " 0 0 0 0 0 0 0 0 0 0 0 0 0 0 0 0 0 1 0 0 0 0 0 0 0 0 0 0 0 0 0 0 0 0 0 0 0\n",
      " 0 0 0 0 0 0 0 0 0 0 0 0 0 0 0 0 0 0 0 0 0 0 0 0 0 0 0 0 0 0 0 1 0 0 0 0 0\n",
      " 0 0 0 0 1 0 0 0 0 0 0 0 0 0 0 0 0 1 0 0 0 0 0 0 0 0 0 0 1 0 0 0 0 0 0 0 0\n",
      " 0 1 0 0 0 0 0 0 0 0 0 0 0 0 0 0 0 0 0 0 0 0 0 0 0 0 0 0 0 0 0 0 0 0 0 0 0\n",
      " 0 0 0 0 0 0 0 0 0 0 0 0 0 0 0 0 0 1 0 0 0 0 0 0 0 0 0 0 0 0 0 0 0 0 0 0 0\n",
      " 0 1 0 0 0 0 0 0 0 0 0 0 0 1 0 1 0 0 0 0 0 0 0 0 0 0 0 1 0 0 0 1 0 0 0 0 0\n",
      " 0 0 0 0 0 0 0 0 0 0 0 0 0 0 0 0 0 0 0 0 0 0 0 0 0 0 0 0 0 0 0 0 0 0 0 0 0\n",
      " 0 0 0 0 0 0 0 0 0 0 0 0 0 0 0 0 0 0 0 0 0 0 0 0 0 0 0 0 0 0 0 0 0 0 0 1 0\n",
      " 0 0 0 0 0 0 0 0 0 0 0 0 0 0 1 0 0 0 0 0 0 0 0 0 0 0 0 0 0 0 0 0 0 0 0 0 0\n",
      " 0 0 0 0 0 0 0 0 0 0 0 0 0 1 0 0 0 0 0 0 0 0 0 0 1 0 0 0 0 0 0 0 0 1 0 0 0\n",
      " 0 0 0 0 1 0 0 0 0 0 0 0 0 0 0 0 0 0 0 0 0 0 0 0 0 0 0 0 0 0 0 0 0 1 0 0 0\n",
      " 0 0 0 0 0 0 0 0 0 0 0 0 0 0 0 0 0 0 0 0 0 0 1 0 0 0 0 1 0 0 0 0 0 0 0 0 0\n",
      " 0 0 0 0 0 0 0 0 0 0 0 0 0 1 0 0 0 0 0 0 0 0 0 0 0 0 0 0 0 0 0 0 0 0 0 0 0\n",
      " 0 0 0 0 0 0 0 0 0 1 0 0 0 0 0 0 0 0 0 0 0 0 0 0 0 0 0 0 1 0 0 0 0 0 0 0 0\n",
      " 0 0 0 0 0 0 0 0 0 0 0 0 0 0 0 0 0 0 0 0 0 0 0 0 0 0 0 0 0 0 0 0 0 0 0 0 1\n",
      " 0 0 0 0 0 0 0 0 0 0 0 0 0 0 0 0 0 0 0 0 0 1 0 0 0 0 0 0 0 0 0 0 0 0 1 0 0\n",
      " 0 0 0 0 0 0 0 0 0]\n"
     ]
    }
   ],
   "source": [
    "kmeans = KMeans(n_clusters=2)\n",
    "results = kmeans.fit_predict(x.values, y.values)\n",
    "print(results[:5])"
   ]
  },
  {
   "cell_type": "code",
   "execution_count": 340,
   "metadata": {
    "collapsed": false
   },
   "outputs": [
    {
     "data": {
      "text/plain": [
       "0.6235955056179775"
      ]
     },
     "execution_count": 340,
     "metadata": {},
     "output_type": "execute_result"
    }
   ],
   "source": [
    "accuracy_score(y.values, results)"
   ]
  },
  {
   "cell_type": "markdown",
   "metadata": {},
   "source": [
    "We now know how accurate our predictions are. Now we can format our test.csv"
   ]
  },
  {
   "cell_type": "code",
   "execution_count": 342,
   "metadata": {
    "collapsed": false
   },
   "outputs": [
    {
     "name": "stdout",
     "output_type": "stream",
     "text": [
      "length: 418 \n",
      "   PassengerId   Age  SibSp  Parch     Fare\n",
      "0          892  34.5      0      0   7.8292\n",
      "1          893  47.0      1      0   7.0000\n",
      "2          894  62.0      0      0   9.6875\n",
      "3          895  27.0      0      0   8.6625\n",
      "4          896  22.0      1      1  12.2875\n"
     ]
    }
   ],
   "source": [
    "titanic_test.drop(['Name', 'Ticket', 'Cabin', 'Embarked', 'Sex', 'Pclass'], axis=1, inplace=True)\n",
    "print('length: {} '.format(len(titanic_test)))\n",
    "print(titanic_test.head(5))"
   ]
  },
  {
   "cell_type": "code",
   "execution_count": 343,
   "metadata": {
    "collapsed": false
   },
   "outputs": [
    {
     "name": "stdout",
     "output_type": "stream",
     "text": [
      "<class 'pandas.core.frame.DataFrame'>\n",
      "RangeIndex: 418 entries, 0 to 417\n",
      "Data columns (total 5 columns):\n",
      "PassengerId    418 non-null int64\n",
      "Age            332 non-null float64\n",
      "SibSp          418 non-null int64\n",
      "Parch          418 non-null int64\n",
      "Fare           417 non-null float64\n",
      "dtypes: float64(2), int64(3)\n",
      "memory usage: 16.4 KB\n"
     ]
    }
   ],
   "source": [
    "titanic_test.info()"
   ]
  },
  {
   "cell_type": "code",
   "execution_count": 344,
   "metadata": {
    "collapsed": false
   },
   "outputs": [
    {
     "name": "stdout",
     "output_type": "stream",
     "text": [
      "<class 'pandas.core.frame.DataFrame'>\n",
      "RangeIndex: 418 entries, 0 to 417\n",
      "Data columns (total 5 columns):\n",
      "PassengerId    418 non-null int64\n",
      "Age            418 non-null float64\n",
      "SibSp          418 non-null int64\n",
      "Parch          418 non-null int64\n",
      "Fare           417 non-null float64\n",
      "dtypes: float64(2), int64(3)\n",
      "memory usage: 16.4 KB\n"
     ]
    }
   ],
   "source": [
    "titanic_test.Age.fillna(titanic_test.Age.mean(), inplace=True)\n",
    "titanic_test.info()"
   ]
  },
  {
   "cell_type": "code",
   "execution_count": 345,
   "metadata": {
    "collapsed": false
   },
   "outputs": [
    {
     "name": "stdout",
     "output_type": "stream",
     "text": [
      "<class 'pandas.core.frame.DataFrame'>\n",
      "RangeIndex: 418 entries, 0 to 417\n",
      "Data columns (total 5 columns):\n",
      "PassengerId    418 non-null int64\n",
      "Age            418 non-null float64\n",
      "SibSp          418 non-null int64\n",
      "Parch          418 non-null int64\n",
      "Fare           418 non-null float64\n",
      "dtypes: float64(2), int64(3)\n",
      "memory usage: 16.4 KB\n"
     ]
    }
   ],
   "source": [
    "titanic_test.Fare.fillna(titanic_test.Fare.mean(), inplace=True)\n",
    "titanic_test.info()"
   ]
  },
  {
   "cell_type": "markdown",
   "metadata": {},
   "source": [
    "Now we are ready to do our prediction..."
   ]
  },
  {
   "cell_type": "code",
   "execution_count": 346,
   "metadata": {
    "collapsed": false
   },
   "outputs": [
    {
     "name": "stdout",
     "output_type": "stream",
     "text": [
      "[0 0 0 0 0 0 0 0 0 0 0 0 0 0 0 0 0 0 0 0 0 0 0 0 1 0 0 0 0 0 0 0 0 0 0 0 0\n",
      " 0 0 0 0 0 0 0 0 0 0 0 0 0 0 0 0 1 0 0 0 0 0 1 0 0 0 0 1 0 0 0 0 1 0 0 0 0\n",
      " 1 1 0 0 0 0 0 1 0 0 0 0 0 0 0 0 0 0 0 0 0 0 0 0 0 0 0 0 0 0 0 0 0 0 0 0 0\n",
      " 0 0 0 1 0 0 0 0 0 0 0 0 0 0 0 0 0 0 0 0 0 0 0 0 0 0 0 0 0 0 1 1 0 0 0 0 0\n",
      " 0 0 0 0 0 0 0 0 1 0 0 0 0 0 0 0 0 0 0 0 0 0 0 0 0 0 0 0 0 0 0 0 0 0 0 0 1\n",
      " 0 0 0 0 0 0 0 0 0 0 0 1 0 0 0 0 0 1 0 0 0 0 0 0 0 0 0 0 0 0 0 0 1 1 0 0 0\n",
      " 0 0 0 0 0 0 0 0 0 0 0 0 0 0 0 0 0 0 0 0 1 0 0 0 0 0 0 0 0 0 1 0 0 0 0 0 0\n",
      " 0 0 0 0 0 0 0 0 0 0 0 0 0 1 0 0 0 0 0 0 0 0 0 0 0 0 0 0 0 0 0 0 0 0 0 0 0\n",
      " 0 0 0 0 0 0 0 0 0 0 1 0 0 0 0 0 0 0 1 0 1 0 0 0 0 0 0 0 1 0 0 0 0 0 0 0 0\n",
      " 0 0 0 0 0 0 0 0 0 0 1 0 0 0 0 0 0 0 0 0 0 0 0 0 0 0 0 0 0 0 0 0 0 0 0 0 0\n",
      " 0 1 0 0 0 1 0 0 0 0 0 0 0 0 0 0 0 0 0 0 0 0 0 0 0 0 0 0 0 0 1 0 0 0 0 0 0\n",
      " 1 0 0 0 0 0 0 0 0 0 0]\n"
     ]
    }
   ],
   "source": [
    "results = kmeans.predict(titanic_test.drop(['PassengerId'], axis=1))\n",
    "print(results)"
   ]
  },
  {
   "cell_type": "code",
   "execution_count": 347,
   "metadata": {
    "collapsed": true
   },
   "outputs": [],
   "source": [
    "ids = titanic_test.PassengerId.values"
   ]
  },
  {
   "cell_type": "code",
   "execution_count": 348,
   "metadata": {
    "collapsed": false
   },
   "outputs": [],
   "source": [
    "final_result = np.c_[ids.astype(int), results]"
   ]
  },
  {
   "cell_type": "code",
   "execution_count": 349,
   "metadata": {
    "collapsed": false
   },
   "outputs": [
    {
     "name": "stdout",
     "output_type": "stream",
     "text": [
      "[[ 892    0]\n",
      " [ 893    0]\n",
      " [ 894    0]\n",
      " [ 895    0]\n",
      " [ 896    0]\n",
      " [ 897    0]\n",
      " [ 898    0]\n",
      " [ 899    0]\n",
      " [ 900    0]\n",
      " [ 901    0]\n",
      " [ 902    0]\n",
      " [ 903    0]\n",
      " [ 904    0]\n",
      " [ 905    0]\n",
      " [ 906    0]\n",
      " [ 907    0]\n",
      " [ 908    0]\n",
      " [ 909    0]\n",
      " [ 910    0]\n",
      " [ 911    0]\n",
      " [ 912    0]\n",
      " [ 913    0]\n",
      " [ 914    0]\n",
      " [ 915    0]\n",
      " [ 916    1]\n",
      " [ 917    0]\n",
      " [ 918    0]\n",
      " [ 919    0]\n",
      " [ 920    0]\n",
      " [ 921    0]\n",
      " [ 922    0]\n",
      " [ 923    0]\n",
      " [ 924    0]\n",
      " [ 925    0]\n",
      " [ 926    0]\n",
      " [ 927    0]\n",
      " [ 928    0]\n",
      " [ 929    0]\n",
      " [ 930    0]\n",
      " [ 931    0]\n",
      " [ 932    0]\n",
      " [ 933    0]\n",
      " [ 934    0]\n",
      " [ 935    0]\n",
      " [ 936    0]\n",
      " [ 937    0]\n",
      " [ 938    0]\n",
      " [ 939    0]\n",
      " [ 940    0]\n",
      " [ 941    0]\n",
      " [ 942    0]\n",
      " [ 943    0]\n",
      " [ 944    0]\n",
      " [ 945    1]\n",
      " [ 946    0]\n",
      " [ 947    0]\n",
      " [ 948    0]\n",
      " [ 949    0]\n",
      " [ 950    0]\n",
      " [ 951    1]\n",
      " [ 952    0]\n",
      " [ 953    0]\n",
      " [ 954    0]\n",
      " [ 955    0]\n",
      " [ 956    1]\n",
      " [ 957    0]\n",
      " [ 958    0]\n",
      " [ 959    0]\n",
      " [ 960    0]\n",
      " [ 961    1]\n",
      " [ 962    0]\n",
      " [ 963    0]\n",
      " [ 964    0]\n",
      " [ 965    0]\n",
      " [ 966    1]\n",
      " [ 967    1]\n",
      " [ 968    0]\n",
      " [ 969    0]\n",
      " [ 970    0]\n",
      " [ 971    0]\n",
      " [ 972    0]\n",
      " [ 973    1]\n",
      " [ 974    0]\n",
      " [ 975    0]\n",
      " [ 976    0]\n",
      " [ 977    0]\n",
      " [ 978    0]\n",
      " [ 979    0]\n",
      " [ 980    0]\n",
      " [ 981    0]\n",
      " [ 982    0]\n",
      " [ 983    0]\n",
      " [ 984    0]\n",
      " [ 985    0]\n",
      " [ 986    0]\n",
      " [ 987    0]\n",
      " [ 988    0]\n",
      " [ 989    0]\n",
      " [ 990    0]\n",
      " [ 991    0]\n",
      " [ 992    0]\n",
      " [ 993    0]\n",
      " [ 994    0]\n",
      " [ 995    0]\n",
      " [ 996    0]\n",
      " [ 997    0]\n",
      " [ 998    0]\n",
      " [ 999    0]\n",
      " [1000    0]\n",
      " [1001    0]\n",
      " [1002    0]\n",
      " [1003    0]\n",
      " [1004    0]\n",
      " [1005    0]\n",
      " [1006    1]\n",
      " [1007    0]\n",
      " [1008    0]\n",
      " [1009    0]\n",
      " [1010    0]\n",
      " [1011    0]\n",
      " [1012    0]\n",
      " [1013    0]\n",
      " [1014    0]\n",
      " [1015    0]\n",
      " [1016    0]\n",
      " [1017    0]\n",
      " [1018    0]\n",
      " [1019    0]\n",
      " [1020    0]\n",
      " [1021    0]\n",
      " [1022    0]\n",
      " [1023    0]\n",
      " [1024    0]\n",
      " [1025    0]\n",
      " [1026    0]\n",
      " [1027    0]\n",
      " [1028    0]\n",
      " [1029    0]\n",
      " [1030    0]\n",
      " [1031    0]\n",
      " [1032    0]\n",
      " [1033    1]\n",
      " [1034    1]\n",
      " [1035    0]\n",
      " [1036    0]\n",
      " [1037    0]\n",
      " [1038    0]\n",
      " [1039    0]\n",
      " [1040    0]\n",
      " [1041    0]\n",
      " [1042    0]\n",
      " [1043    0]\n",
      " [1044    0]\n",
      " [1045    0]\n",
      " [1046    0]\n",
      " [1047    0]\n",
      " [1048    1]\n",
      " [1049    0]\n",
      " [1050    0]\n",
      " [1051    0]\n",
      " [1052    0]\n",
      " [1053    0]\n",
      " [1054    0]\n",
      " [1055    0]\n",
      " [1056    0]\n",
      " [1057    0]\n",
      " [1058    0]\n",
      " [1059    0]\n",
      " [1060    0]\n",
      " [1061    0]\n",
      " [1062    0]\n",
      " [1063    0]\n",
      " [1064    0]\n",
      " [1065    0]\n",
      " [1066    0]\n",
      " [1067    0]\n",
      " [1068    0]\n",
      " [1069    0]\n",
      " [1070    0]\n",
      " [1071    0]\n",
      " [1072    0]\n",
      " [1073    0]\n",
      " [1074    0]\n",
      " [1075    0]\n",
      " [1076    1]\n",
      " [1077    0]\n",
      " [1078    0]\n",
      " [1079    0]\n",
      " [1080    0]\n",
      " [1081    0]\n",
      " [1082    0]\n",
      " [1083    0]\n",
      " [1084    0]\n",
      " [1085    0]\n",
      " [1086    0]\n",
      " [1087    0]\n",
      " [1088    1]\n",
      " [1089    0]\n",
      " [1090    0]\n",
      " [1091    0]\n",
      " [1092    0]\n",
      " [1093    0]\n",
      " [1094    1]\n",
      " [1095    0]\n",
      " [1096    0]\n",
      " [1097    0]\n",
      " [1098    0]\n",
      " [1099    0]\n",
      " [1100    0]\n",
      " [1101    0]\n",
      " [1102    0]\n",
      " [1103    0]\n",
      " [1104    0]\n",
      " [1105    0]\n",
      " [1106    0]\n",
      " [1107    0]\n",
      " [1108    0]\n",
      " [1109    1]\n",
      " [1110    1]\n",
      " [1111    0]\n",
      " [1112    0]\n",
      " [1113    0]\n",
      " [1114    0]\n",
      " [1115    0]\n",
      " [1116    0]\n",
      " [1117    0]\n",
      " [1118    0]\n",
      " [1119    0]\n",
      " [1120    0]\n",
      " [1121    0]\n",
      " [1122    0]\n",
      " [1123    0]\n",
      " [1124    0]\n",
      " [1125    0]\n",
      " [1126    0]\n",
      " [1127    0]\n",
      " [1128    0]\n",
      " [1129    0]\n",
      " [1130    0]\n",
      " [1131    0]\n",
      " [1132    0]\n",
      " [1133    0]\n",
      " [1134    1]\n",
      " [1135    0]\n",
      " [1136    0]\n",
      " [1137    0]\n",
      " [1138    0]\n",
      " [1139    0]\n",
      " [1140    0]\n",
      " [1141    0]\n",
      " [1142    0]\n",
      " [1143    0]\n",
      " [1144    1]\n",
      " [1145    0]\n",
      " [1146    0]\n",
      " [1147    0]\n",
      " [1148    0]\n",
      " [1149    0]\n",
      " [1150    0]\n",
      " [1151    0]\n",
      " [1152    0]\n",
      " [1153    0]\n",
      " [1154    0]\n",
      " [1155    0]\n",
      " [1156    0]\n",
      " [1157    0]\n",
      " [1158    0]\n",
      " [1159    0]\n",
      " [1160    0]\n",
      " [1161    0]\n",
      " [1162    0]\n",
      " [1163    0]\n",
      " [1164    1]\n",
      " [1165    0]\n",
      " [1166    0]\n",
      " [1167    0]\n",
      " [1168    0]\n",
      " [1169    0]\n",
      " [1170    0]\n",
      " [1171    0]\n",
      " [1172    0]\n",
      " [1173    0]\n",
      " [1174    0]\n",
      " [1175    0]\n",
      " [1176    0]\n",
      " [1177    0]\n",
      " [1178    0]\n",
      " [1179    0]\n",
      " [1180    0]\n",
      " [1181    0]\n",
      " [1182    0]\n",
      " [1183    0]\n",
      " [1184    0]\n",
      " [1185    0]\n",
      " [1186    0]\n",
      " [1187    0]\n",
      " [1188    0]\n",
      " [1189    0]\n",
      " [1190    0]\n",
      " [1191    0]\n",
      " [1192    0]\n",
      " [1193    0]\n",
      " [1194    0]\n",
      " [1195    0]\n",
      " [1196    0]\n",
      " [1197    0]\n",
      " [1198    1]\n",
      " [1199    0]\n",
      " [1200    0]\n",
      " [1201    0]\n",
      " [1202    0]\n",
      " [1203    0]\n",
      " [1204    0]\n",
      " [1205    0]\n",
      " [1206    1]\n",
      " [1207    0]\n",
      " [1208    1]\n",
      " [1209    0]\n",
      " [1210    0]\n",
      " [1211    0]\n",
      " [1212    0]\n",
      " [1213    0]\n",
      " [1214    0]\n",
      " [1215    0]\n",
      " [1216    1]\n",
      " [1217    0]\n",
      " [1218    0]\n",
      " [1219    0]\n",
      " [1220    0]\n",
      " [1221    0]\n",
      " [1222    0]\n",
      " [1223    0]\n",
      " [1224    0]\n",
      " [1225    0]\n",
      " [1226    0]\n",
      " [1227    0]\n",
      " [1228    0]\n",
      " [1229    0]\n",
      " [1230    0]\n",
      " [1231    0]\n",
      " [1232    0]\n",
      " [1233    0]\n",
      " [1234    0]\n",
      " [1235    1]\n",
      " [1236    0]\n",
      " [1237    0]\n",
      " [1238    0]\n",
      " [1239    0]\n",
      " [1240    0]\n",
      " [1241    0]\n",
      " [1242    0]\n",
      " [1243    0]\n",
      " [1244    0]\n",
      " [1245    0]\n",
      " [1246    0]\n",
      " [1247    0]\n",
      " [1248    0]\n",
      " [1249    0]\n",
      " [1250    0]\n",
      " [1251    0]\n",
      " [1252    0]\n",
      " [1253    0]\n",
      " [1254    0]\n",
      " [1255    0]\n",
      " [1256    0]\n",
      " [1257    0]\n",
      " [1258    0]\n",
      " [1259    0]\n",
      " [1260    0]\n",
      " [1261    0]\n",
      " [1262    0]\n",
      " [1263    1]\n",
      " [1264    0]\n",
      " [1265    0]\n",
      " [1266    0]\n",
      " [1267    1]\n",
      " [1268    0]\n",
      " [1269    0]\n",
      " [1270    0]\n",
      " [1271    0]\n",
      " [1272    0]\n",
      " [1273    0]\n",
      " [1274    0]\n",
      " [1275    0]\n",
      " [1276    0]\n",
      " [1277    0]\n",
      " [1278    0]\n",
      " [1279    0]\n",
      " [1280    0]\n",
      " [1281    0]\n",
      " [1282    0]\n",
      " [1283    0]\n",
      " [1284    0]\n",
      " [1285    0]\n",
      " [1286    0]\n",
      " [1287    0]\n",
      " [1288    0]\n",
      " [1289    0]\n",
      " [1290    0]\n",
      " [1291    0]\n",
      " [1292    1]\n",
      " [1293    0]\n",
      " [1294    0]\n",
      " [1295    0]\n",
      " [1296    0]\n",
      " [1297    0]\n",
      " [1298    0]\n",
      " [1299    1]\n",
      " [1300    0]\n",
      " [1301    0]\n",
      " [1302    0]\n",
      " [1303    0]\n",
      " [1304    0]\n",
      " [1305    0]\n",
      " [1306    0]\n",
      " [1307    0]\n",
      " [1308    0]\n",
      " [1309    0]]\n"
     ]
    }
   ],
   "source": [
    "print(final_result)"
   ]
  },
  {
   "cell_type": "code",
   "execution_count": 350,
   "metadata": {
    "collapsed": false
   },
   "outputs": [],
   "source": [
    "prediction_file = open('kmean_prediction.csv', 'w')\n",
    "open_file = csv.writer(prediction_file)\n",
    "open_file.writerow(['PassengerId', 'Survived'])\n",
    "open_file.writerows(zip(ids, results))\n",
    "prediction_file.close()"
   ]
  },
  {
   "cell_type": "code",
   "execution_count": 351,
   "metadata": {
    "collapsed": false
   },
   "outputs": [
    {
     "name": "stdout",
     "output_type": "stream",
     "text": [
      "1000 loops, best of 3: 706 µs per loop\n"
     ]
    }
   ],
   "source": [
    "%timeit kmeans.predict(titanic_test.drop(['PassengerId'], axis=1))"
   ]
  },
  {
   "cell_type": "code",
   "execution_count": null,
   "metadata": {
    "collapsed": true
   },
   "outputs": [],
   "source": []
  }
 ],
 "metadata": {
  "kernelspec": {
   "display_name": "Python 3",
   "language": "python",
   "name": "python3"
  },
  "language_info": {
   "codemirror_mode": {
    "name": "ipython",
    "version": 3
   },
   "file_extension": ".py",
   "mimetype": "text/x-python",
   "name": "python",
   "nbconvert_exporter": "python",
   "pygments_lexer": "ipython3",
   "version": "3.5.1"
  }
 },
 "nbformat": 4,
 "nbformat_minor": 0
}
