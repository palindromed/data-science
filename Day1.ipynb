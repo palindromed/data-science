{
 "cells": [
  {
   "cell_type": "code",
   "execution_count": 2,
   "metadata": {
    "collapsed": false
   },
   "outputs": [
    {
     "data": {
      "text/plain": [
       "'/Users/hannahkrager/anaconda3/Statistics'"
      ]
     },
     "execution_count": 2,
     "metadata": {},
     "output_type": "execute_result"
    }
   ],
   "source": [
    "import os\n",
    "os.getcwd()"
   ]
  },
  {
   "cell_type": "code",
   "execution_count": 3,
   "metadata": {
    "collapsed": false
   },
   "outputs": [
    {
     "name": "stdout",
     "output_type": "stream",
     "text": [
      "length: 891 \n"
     ]
    },
    {
     "data": {
      "text/html": [
       "<div>\n",
       "<table border=\"1\" class=\"dataframe\">\n",
       "  <thead>\n",
       "    <tr style=\"text-align: right;\">\n",
       "      <th></th>\n",
       "      <th>PassengerId</th>\n",
       "      <th>Survived</th>\n",
       "      <th>Pclass</th>\n",
       "      <th>Name</th>\n",
       "      <th>Sex</th>\n",
       "      <th>Age</th>\n",
       "      <th>SibSp</th>\n",
       "      <th>Parch</th>\n",
       "      <th>Ticket</th>\n",
       "      <th>Fare</th>\n",
       "      <th>Cabin</th>\n",
       "      <th>Embarked</th>\n",
       "    </tr>\n",
       "  </thead>\n",
       "  <tbody>\n",
       "    <tr>\n",
       "      <th>0</th>\n",
       "      <td>1</td>\n",
       "      <td>0</td>\n",
       "      <td>3</td>\n",
       "      <td>Braund, Mr. Owen Harris</td>\n",
       "      <td>male</td>\n",
       "      <td>22.0</td>\n",
       "      <td>1</td>\n",
       "      <td>0</td>\n",
       "      <td>A/5 21171</td>\n",
       "      <td>7.2500</td>\n",
       "      <td>NaN</td>\n",
       "      <td>S</td>\n",
       "    </tr>\n",
       "    <tr>\n",
       "      <th>1</th>\n",
       "      <td>2</td>\n",
       "      <td>1</td>\n",
       "      <td>1</td>\n",
       "      <td>Cumings, Mrs. John Bradley (Florence Briggs Th...</td>\n",
       "      <td>female</td>\n",
       "      <td>38.0</td>\n",
       "      <td>1</td>\n",
       "      <td>0</td>\n",
       "      <td>PC 17599</td>\n",
       "      <td>71.2833</td>\n",
       "      <td>C85</td>\n",
       "      <td>C</td>\n",
       "    </tr>\n",
       "    <tr>\n",
       "      <th>2</th>\n",
       "      <td>3</td>\n",
       "      <td>1</td>\n",
       "      <td>3</td>\n",
       "      <td>Heikkinen, Miss. Laina</td>\n",
       "      <td>female</td>\n",
       "      <td>26.0</td>\n",
       "      <td>0</td>\n",
       "      <td>0</td>\n",
       "      <td>STON/O2. 3101282</td>\n",
       "      <td>7.9250</td>\n",
       "      <td>NaN</td>\n",
       "      <td>S</td>\n",
       "    </tr>\n",
       "    <tr>\n",
       "      <th>3</th>\n",
       "      <td>4</td>\n",
       "      <td>1</td>\n",
       "      <td>1</td>\n",
       "      <td>Futrelle, Mrs. Jacques Heath (Lily May Peel)</td>\n",
       "      <td>female</td>\n",
       "      <td>35.0</td>\n",
       "      <td>1</td>\n",
       "      <td>0</td>\n",
       "      <td>113803</td>\n",
       "      <td>53.1000</td>\n",
       "      <td>C123</td>\n",
       "      <td>S</td>\n",
       "    </tr>\n",
       "    <tr>\n",
       "      <th>4</th>\n",
       "      <td>5</td>\n",
       "      <td>0</td>\n",
       "      <td>3</td>\n",
       "      <td>Allen, Mr. William Henry</td>\n",
       "      <td>male</td>\n",
       "      <td>35.0</td>\n",
       "      <td>0</td>\n",
       "      <td>0</td>\n",
       "      <td>373450</td>\n",
       "      <td>8.0500</td>\n",
       "      <td>NaN</td>\n",
       "      <td>S</td>\n",
       "    </tr>\n",
       "  </tbody>\n",
       "</table>\n",
       "</div>"
      ],
      "text/plain": [
       "   PassengerId  Survived  Pclass  \\\n",
       "0            1         0       3   \n",
       "1            2         1       1   \n",
       "2            3         1       3   \n",
       "3            4         1       1   \n",
       "4            5         0       3   \n",
       "\n",
       "                                                Name     Sex   Age  SibSp  \\\n",
       "0                            Braund, Mr. Owen Harris    male  22.0      1   \n",
       "1  Cumings, Mrs. John Bradley (Florence Briggs Th...  female  38.0      1   \n",
       "2                             Heikkinen, Miss. Laina  female  26.0      0   \n",
       "3       Futrelle, Mrs. Jacques Heath (Lily May Peel)  female  35.0      1   \n",
       "4                           Allen, Mr. William Henry    male  35.0      0   \n",
       "\n",
       "   Parch            Ticket     Fare Cabin Embarked  \n",
       "0      0         A/5 21171   7.2500   NaN        S  \n",
       "1      0          PC 17599  71.2833   C85        C  \n",
       "2      0  STON/O2. 3101282   7.9250   NaN        S  \n",
       "3      0            113803  53.1000  C123        S  \n",
       "4      0            373450   8.0500   NaN        S  "
      ]
     },
     "execution_count": 3,
     "metadata": {},
     "output_type": "execute_result"
    }
   ],
   "source": [
    "import numpy as np\n",
    "import pandas as pd\n",
    "TEST_DATA = 'train.csv'\n",
    "titanic_dataframe = pd.read_csv(TEST_DATA, header=0)\n",
    "print('length: {0} '.format(len(titanic_dataframe)))\n",
    "titanic_dataframe.head(5)\n"
   ]
  },
  {
   "cell_type": "markdown",
   "metadata": {},
   "source": [
    "### Describe the Data:\n",
    "* We have 891 rows in the train.csv data.\n",
    "* Columns in the data:\n",
    "* PassengerId - a seemingly random, unique number given to each row in the data.\n",
    "* Survived - a binary column. 1 means the person survived and 0 means they died.\n",
    "* Pclass - an indicator of socio-economic status.\n",
    "* Name - the name of a passenger on the Titanic.\n",
    "* Sex - the gender of the passenger\n",
    "* Age - the age of a given passenger\n",
    "* SibSp - is the number of siblings and spouses aboard.\n",
    "* Parch - number of parents/children\n",
    "* Ticket - Ticket number of a given passenger\n",
    "* Fare - The cost of the ticket\n",
    "* Cabin - Where they stayed on the ship\n",
    "* Embarked - Port of Embarkation."
   ]
  },
  {
   "cell_type": "markdown",
   "metadata": {},
   "source": [
    "Average age of all Titanic passengers:"
   ]
  },
  {
   "cell_type": "code",
   "execution_count": 34,
   "metadata": {
    "collapsed": false
   },
   "outputs": [
    {
     "name": "stdout",
     "output_type": "stream",
     "text": [
      "29.69911764705882\n"
     ]
    }
   ],
   "source": [
    "avg_all = np.mean(titanic_dataframe['Age'])\n",
    "print(avg_all)"
   ]
  },
  {
   "cell_type": "markdown",
   "metadata": {},
   "source": [
    "Average age of Titanic survivors:"
   ]
  },
  {
   "cell_type": "code",
   "execution_count": 35,
   "metadata": {
    "collapsed": false
   },
   "outputs": [
    {
     "name": "stdout",
     "output_type": "stream",
     "text": [
      "28.343689655172415\n"
     ]
    }
   ],
   "source": [
    "avg_survive = np.mean(titanic_dataframe[titanic_dataframe.Survived==1].Age)\n",
    "print(avg_survive)"
   ]
  },
  {
   "cell_type": "markdown",
   "metadata": {},
   "source": [
    "Average age of non-surviving first class passenger:"
   ]
  },
  {
   "cell_type": "code",
   "execution_count": 58,
   "metadata": {
    "collapsed": false
   },
   "outputs": [
    {
     "name": "stdout",
     "output_type": "stream",
     "text": [
      "43.6953125\n"
     ]
    }
   ],
   "source": [
    "avg_nonsurvivor_firstclass = np.mean(titanic_dataframe[(titanic_dataframe.Survived==0) & (titanic_dataframe.Pclass==1)].Age)\n",
    "print(avg_nonsurvivor_firstclass)"
   ]
  },
  {
   "cell_type": "markdown",
   "metadata": {},
   "source": [
    "Average age of male survivors over 30 from anywhere but Queenstown:"
   ]
  },
  {
   "cell_type": "code",
   "execution_count": 38,
   "metadata": {
    "collapsed": false
   },
   "outputs": [
    {
     "name": "stdout",
     "output_type": "stream",
     "text": [
      "41.48780487804878\n"
     ]
    }
   ],
   "source": [
    "avg_male_survived_30_noq = np.mean(titanic_dataframe[(titanic_dataframe.Survived==1) & (titanic_dataframe.Sex=='male') &\n",
    "                                  (titanic_dataframe.Age > 30) & (titanic_dataframe.Embarked!='Q')].Age)\n",
    "print(avg_male_survived_30_noq)"
   ]
  },
  {
   "cell_type": "markdown",
   "metadata": {},
   "source": [
    "Difference between mean and median for all passengers, filling in NaN with mean"
   ]
  },
  {
   "cell_type": "code",
   "execution_count": 54,
   "metadata": {
    "collapsed": false
   },
   "outputs": [
    {
     "name": "stdout",
     "output_type": "stream",
     "text": [
      "-1.69911764706\n"
     ]
    }
   ],
   "source": [
    "median_forall = np.median(titanic_dataframe[titanic_dataframe.Age > 0].Age)\n",
    "print(median_forall - avg_all)"
   ]
  },
  {
   "cell_type": "markdown",
   "metadata": {},
   "source": [
    "Difference between mean and median ages for survivors:"
   ]
  },
  {
   "cell_type": "code",
   "execution_count": 56,
   "metadata": {
    "collapsed": false
   },
   "outputs": [
    {
     "name": "stdout",
     "output_type": "stream",
     "text": [
      "28.0\n",
      "-0.343689655172\n"
     ]
    }
   ],
   "source": [
    "median_survivor = np.median(titanic_dataframe[(titanic_dataframe.Age >0) & (titanic_dataframe.Survived==1)].Age)\n",
    "print(median_survivor - avg_survive)"
   ]
  },
  {
   "cell_type": "markdown",
   "metadata": {},
   "source": [
    "Difference between mean and median ages for non surviving first class passengers:"
   ]
  },
  {
   "cell_type": "code",
   "execution_count": 59,
   "metadata": {
    "collapsed": false
   },
   "outputs": [
    {
     "name": "stdout",
     "output_type": "stream",
     "text": [
      "1.5546875\n"
     ]
    }
   ],
   "source": [
    "median_first_dead = np.median(titanic_dataframe[(titanic_dataframe.Age >0) & (titanic_dataframe.Survived==0) &\n",
    "                                              (titanic_dataframe.Pclass==1) ].Age)\n",
    "print(median_first_dead - avg_nonsurvivor_firstclass)"
   ]
  },
  {
   "cell_type": "markdown",
   "metadata": {},
   "source": [
    "Difference between mean and median ages for survivor men over 30 not from Queenstown:"
   ]
  },
  {
   "cell_type": "code",
   "execution_count": 60,
   "metadata": {
    "collapsed": false
   },
   "outputs": [
    {
     "name": "stdout",
     "output_type": "stream",
     "text": [
      "-3.48780487805\n"
     ]
    }
   ],
   "source": [
    "median_men_noq = np.median(titanic_dataframe[(titanic_dataframe.Survived==1) & (titanic_dataframe.Sex=='male') &\n",
    "                                  (titanic_dataframe.Age > 30) & (titanic_dataframe.Embarked!='Q')].Age)\n",
    "print(median_men_noq - avg_male_survived_30_noq)"
   ]
  },
  {
   "cell_type": "markdown",
   "metadata": {},
   "source": [
    "Most common passenger class:"
   ]
  },
  {
   "cell_type": "code",
   "execution_count": 66,
   "metadata": {
    "collapsed": false
   },
   "outputs": [
    {
     "data": {
      "text/plain": [
       "3"
      ]
     },
     "execution_count": 66,
     "metadata": {},
     "output_type": "execute_result"
    }
   ],
   "source": [
    "titanic_dataframe['Pclass'].mode().item()"
   ]
  },
  {
   "cell_type": "markdown",
   "metadata": {},
   "source": [
    "Mode of Port of Embarkation:"
   ]
  },
  {
   "cell_type": "code",
   "execution_count": 67,
   "metadata": {
    "collapsed": false
   },
   "outputs": [
    {
     "data": {
      "text/plain": [
       "'S'"
      ]
     },
     "execution_count": 67,
     "metadata": {},
     "output_type": "execute_result"
    }
   ],
   "source": [
    "titanic_dataframe['Embarked'].mode().item()"
   ]
  },
  {
   "cell_type": "markdown",
   "metadata": {},
   "source": [
    "Mode of siblings/spouses aboard:"
   ]
  },
  {
   "cell_type": "code",
   "execution_count": 68,
   "metadata": {
    "collapsed": false
   },
   "outputs": [
    {
     "data": {
      "text/plain": [
       "0"
      ]
     },
     "execution_count": 68,
     "metadata": {},
     "output_type": "execute_result"
    }
   ],
   "source": [
    "titanic_dataframe['SibSp'].mode().item()"
   ]
  },
  {
   "cell_type": "markdown",
   "metadata": {},
   "source": [
    "The median ticket price is 0-1 stds from the mean. It is below the mean"
   ]
  },
  {
   "cell_type": "code",
   "execution_count": 69,
   "metadata": {
    "collapsed": false
   },
   "outputs": [
    {
     "data": {
      "text/plain": [
       "14.4542"
      ]
     },
     "execution_count": 69,
     "metadata": {},
     "output_type": "execute_result"
    }
   ],
   "source": [
    "np.median(titanic_dataframe['Fare'])"
   ]
  },
  {
   "cell_type": "code",
   "execution_count": 70,
   "metadata": {
    "collapsed": false
   },
   "outputs": [
    {
     "data": {
      "text/plain": [
       "32.2042079685746"
      ]
     },
     "execution_count": 70,
     "metadata": {},
     "output_type": "execute_result"
    }
   ],
   "source": [
    "np.mean(titanic_dataframe['Fare'])"
   ]
  },
  {
   "cell_type": "code",
   "execution_count": 71,
   "metadata": {
    "collapsed": false
   },
   "outputs": [
    {
     "data": {
      "text/plain": [
       "8.05"
      ]
     },
     "execution_count": 71,
     "metadata": {},
     "output_type": "execute_result"
    }
   ],
   "source": [
    "titanic_dataframe['Fare'].mode().item()"
   ]
  },
  {
   "cell_type": "code",
   "execution_count": 80,
   "metadata": {
    "collapsed": false
   },
   "outputs": [
    {
     "data": {
      "text/plain": [
       "49.693428597180905"
      ]
     },
     "execution_count": 80,
     "metadata": {},
     "output_type": "execute_result"
    }
   ],
   "source": [
    "np.std(titanic_dataframe['Fare'], ddof=1)"
   ]
  },
  {
   "cell_type": "markdown",
   "metadata": {},
   "source": [
    "The cost difference between the 90th and 5th percent tickets and their classes"
   ]
  },
  {
   "cell_type": "code",
   "execution_count": 105,
   "metadata": {
    "collapsed": false
   },
   "outputs": [
    {
     "name": "stdout",
     "output_type": "stream",
     "text": [
      "70.7333\n"
     ]
    }
   ],
   "source": [
    "nintieth_cost = titanic_dataframe['Fare'].quantile(.9)\n",
    "fifth_cost = titanic_dataframe['Fare'].quantile(.05)\n",
    "print(nintieth_cost - fifth_cost)"
   ]
  },
  {
   "cell_type": "code",
   "execution_count": 97,
   "metadata": {
    "collapsed": false
   },
   "outputs": [
    {
     "name": "stdout",
     "output_type": "stream",
     "text": [
      "19     3\n",
      "26     3\n",
      "203    3\n",
      "244    3\n",
      "354    3\n",
      "522    3\n",
      "553    3\n",
      "598    3\n",
      "661    3\n",
      "693    3\n",
      "773    3\n",
      "875    3\n",
      "Name: Pclass, dtype: int64\n"
     ]
    }
   ],
   "source": [
    "class_level = titanic_dataframe[(titanic_dataframe.Fare ==  titanic_dataframe['Fare'].quantile(.05))].Pclass\n",
    "print(class_level)"
   ]
  },
  {
   "cell_type": "code",
   "execution_count": 98,
   "metadata": {
    "collapsed": false
   },
   "outputs": [
    {
     "name": "stdout",
     "output_type": "stream",
     "text": [
      "275    1\n",
      "627    1\n",
      "765    1\n",
      "Name: Pclass, dtype: int64\n"
     ]
    }
   ],
   "source": [
    "upper_class = titanic_dataframe[(titanic_dataframe.Fare ==  titanic_dataframe['Fare'].quantile(.9))].Pclass\n",
    "print(upper_class)"
   ]
  },
  {
   "cell_type": "markdown",
   "metadata": {},
   "source": [
    "The port with the most expensive average ticket price is Cherbourg"
   ]
  },
  {
   "cell_type": "code",
   "execution_count": 101,
   "metadata": {
    "collapsed": false
   },
   "outputs": [
    {
     "name": "stdout",
     "output_type": "stream",
     "text": [
      "27.07981180124218 13.276029870129872 59.95414404761905\n"
     ]
    }
   ],
   "source": [
    "south = np.mean(titanic_dataframe[(titanic_dataframe.Embarked == 'S')].Fare)\n",
    "queens =  np.mean(titanic_dataframe[(titanic_dataframe.Embarked == 'Q')].Fare)\n",
    "cherb = np.mean(titanic_dataframe[(titanic_dataframe.Embarked == 'C')].Fare)\n",
    "print(south, queens, cherb)"
   ]
  },
  {
   "cell_type": "markdown",
   "metadata": {},
   "source": [
    "The port with the most similar passenger class is Queenstown because it has the smallest std"
   ]
  },
  {
   "cell_type": "code",
   "execution_count": 109,
   "metadata": {
    "collapsed": false
   },
   "outputs": [
    {
     "name": "stdout",
     "output_type": "stream",
     "text": [
      "0.7887893083528223 0.3668687504370267 0.9412858178734583\n"
     ]
    }
   ],
   "source": [
    "southie = np.std(titanic_dataframe[(titanic_dataframe.Embarked=='S')].Pclass)\n",
    "queenie = np.std(titanic_dataframe[(titanic_dataframe.Embarked=='Q')].Pclass)\n",
    "cherbie = np.std(titanic_dataframe[(titanic_dataframe.Embarked=='C')].Pclass)\n",
    "print(southie, queenie, cherbie)"
   ]
  },
  {
   "cell_type": "markdown",
   "metadata": {},
   "source": [
    "The average surviving passenger with family members was ~6.88 years younger than the average non surviving passenger with no family"
   ]
  },
  {
   "cell_type": "code",
   "execution_count": 110,
   "metadata": {
    "collapsed": false
   },
   "outputs": [
    {
     "name": "stdout",
     "output_type": "stream",
     "text": [
      "-6.888171076642337\n"
     ]
    }
   ],
   "source": [
    "avg_surv_w_fam = np.mean(titanic_dataframe[(titanic_dataframe.Survived==1) & ((titanic_dataframe.SibSp > 0) | (titanic_dataframe.Parch > 0))].Age)\n",
    "avg_non_no_fam = np.mean(titanic_dataframe[(titanic_dataframe.Survived==0) & (titanic_dataframe.SibSp==0) & (titanic_dataframe.Parch==0)].Age)\n",
    "print(avg_surv_w_fam-avg_non_no_fam)"
   ]
  },
  {
   "cell_type": "markdown",
   "metadata": {},
   "source": [
    "Display the relationship (i.e. make a plot) between survival rate and the quantile of the ticket price for 20 integer quantiles. Make sure you label your axes."
   ]
  },
  {
   "cell_type": "code",
   "execution_count": 5,
   "metadata": {
    "collapsed": false
   },
   "outputs": [
    {
     "name": "stdout",
     "output_type": "stream",
     "text": [
      "Using matplotlib backend: MacOSX\n"
     ]
    },
    {
     "name": "stderr",
     "output_type": "stream",
     "text": [
      "/Users/hannahkrager/anaconda3/envs/startdata/lib/python3.5/site-packages/ipykernel/__main__.py:9: UserWarning: Boolean Series key will be reindexed to match DataFrame index.\n"
     ]
    }
   ],
   "source": [
    "import matplotlib.pyplot as pl\n",
    "% matplotlib\n",
    "\n",
    "fare_quantiles = np.percentile(titanic_dataframe['Fare'], np.arange(5, 105, 5.0))\n",
    "survival_quantiles = []\n",
    "latest_quantile = 0\n",
    "for f_q in fare_quantiles:\n",
    "    folks= titanic_dataframe[(latest_quantile < titanic_dataframe.Fare) & (titanic_dataframe.Fare < f_q)]\n",
    "    survival_quantiles.append(len(folks[titanic_dataframe.Survived == 1]) / float(len(folks)))\n",
    "graph = pl.plot(np.arange(5, 105, 5.0), survival_quantiles)"
   ]
  },
  {
   "cell_type": "markdown",
   "metadata": {},
   "source": [
    "Surviving men who paid less than median fare price:"
   ]
  },
  {
   "cell_type": "code",
   "execution_count": 8,
   "metadata": {
    "collapsed": false
   },
   "outputs": [
    {
     "name": "stdout",
     "output_type": "stream",
     "text": [
      "0\n",
      "45\n",
      "14.4542\n"
     ]
    }
   ],
   "source": [
    "median_fare = np.median(titanic_dataframe.Fare)\n",
    "surviving_first_less_median_fare = len(titanic_dataframe[(titanic_dataframe.Survived==1) \n",
    "                                 & (titanic_dataframe.Pclass==1)\n",
    "                                & (titanic_dataframe.Sex=='male')\n",
    "                               & (titanic_dataframe.Fare < median_fare)])\n",
    "\n",
    "surviving_first = len(titanic_dataframe[(titanic_dataframe.Survived==1) \n",
    "                                 & (titanic_dataframe.Pclass==1)\n",
    "                                & (titanic_dataframe.Sex=='male')])\n",
    "print(surviving_first_less_median_fare)\n",
    "print(surviving_first)\n",
    "print(median_fare)"
   ]
  },
  {
   "cell_type": "code",
   "execution_count": null,
   "metadata": {
    "collapsed": true
   },
   "outputs": [],
   "source": []
  }
 ],
 "metadata": {
  "kernelspec": {
   "display_name": "Python 3",
   "language": "python",
   "name": "python3"
  },
  "language_info": {
   "codemirror_mode": {
    "name": "ipython",
    "version": 3
   },
   "file_extension": ".py",
   "mimetype": "text/x-python",
   "name": "python",
   "nbconvert_exporter": "python",
   "pygments_lexer": "ipython3",
   "version": "3.5.1"
  }
 },
 "nbformat": 4,
 "nbformat_minor": 0
}
